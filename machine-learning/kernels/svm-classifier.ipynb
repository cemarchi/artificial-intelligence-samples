{
 "metadata": {
  "language_info": {
   "codemirror_mode": {
    "name": "ipython",
    "version": 3
   },
   "file_extension": ".py",
   "mimetype": "text/x-python",
   "name": "python",
   "nbconvert_exporter": "python",
   "pygments_lexer": "ipython3",
   "version": "3.8.2-final"
  },
  "orig_nbformat": 2,
  "kernelspec": {
   "name": "python3",
   "display_name": "Python 3",
   "language": "python"
  }
 },
 "nbformat": 4,
 "nbformat_minor": 2,
 "cells": [
  {
   "source": [
    "# Máquinas de Vetores de Suporte - SVM\n",
    "\n",
    "<p>O entendimento do algoritmo SVM está relacionado ao entendimento de hiperplanos. Formalmente, um hiperplano é um subespaço n-1 em um espaço n-dimensional, por exemplo, se quiséssemos dividir um espaço bidimensional, usamos um hiperplano unidimensional (ou seja, uma linha). Se for um espaço tridimensional, usamos um hiperplano bidimensional (ou seja, um folha de papel ou lençol). Um hiperplano é simplesmente uma generalização desse conceito em n dimensões.</p>\n",
    "\n",
    "<p>Então, o objeto do algoritmo é classificar os dados encontrando o hiperplano que maximiza o margem entre as classes nos dados de treinamento. Por exemplo, classificação com duas classes (bidimensional), podemos pensar em um hiperplano como uma reta mais ampla (ou seja, linha com margens) que separa as duas classes.</p>\n",
    "\n",
    "## Vantagens\n",
    "\n",
    "<ul>\n",
    "<li>Predição de probabilidade, podendo ser útil quando necessita de medidas de probabilidades, por exemplo ajustar os valores para classificar se um e-mail é <i>spam</i> ou não</li>\n",
    "<li>Pouco risco de <i>overfitting</i></li>\n",
    "<li>Flexibilidade de parâmetro de regularização (ajusta a borda de linearidade) para redução de erro no modelo</li>\n",
    "<li>Eficiente para conjuntos de dados de grandes dimensões</li>\n",
    "<li>Pode ser aplicação tanto para classificação quanto para regressão</li>\n",
    "<li>Flexibilidade no <i>kernel</i>, podendo ser linear, não linear, polinomial, sigmóide e gausiano</li>\n",
    "<li>Lida bem com dados faltantes, não requer normalização de dados e aplicação de escala (porém na prática pode ser interessante aplicar para melhorar a predição)</li>\n",
    "</ul>\n",
    "\n",
    "## Desvantagens\n",
    "\n",
    "<ul>\n",
    "<li>A flexibilidade de <i>kernel</i> requer configurações avançadas e não é trivial</li>\n",
    "<li>Não indicado para grande conjuntos de dados, porém utilizando o algoritmo <a href=\"https://scikit-learn.org/stable/modules/generated/sklearn.svm.LinearSVC.html#sklearn.svm.LinearSVC\">LinearSvm</a> não terá esse problema. Contudo, melhor utilizar o algoritmo SVD (<a href=\"https://scikit-learn.org/stable/modules/generated/sklearn.linear_model.SGDClassifier.html#sklearn.linear_model.SGDClassifier\">classificador</a> ou <a href=\"https://scikit-learn.org/stable/modules/generated/sklearn.linear_model.SGDRegressor.html\">regressor</a>)</li>\n",
    "<li>Alto custo computacional, está atrelado ao tamanho do conjunto de dados utilizado e também como ele é executado, especialmente para <i>kernel</i> não linear</li>\n",
    "<li>Risco de <i>overfitting</i></li>"
   ],
   "cell_type": "markdown",
   "metadata": {}
  },
  {
   "source": [
    "# Exemplo\n",
    "\n",
    "Vejamos um exemplo para criar modelo preditivo utilizando o algoritmo Linear SVM e SVM para classificação de flores de íris.\n",
    "\n",
    "Dataset: UCI Iris Dataset\n",
    "Esse conjunto de dados de íris contém quatro variáveis (features) ​​que medem várias partes das flores da íris de três espécies relacionadas (target). A utilização desse conjunto de dados é muito comum pela comunidade de aprendizado de máquina, pois os dados exigem muito pouco pré-processamento, sendo ideal para o nosso exemplo onde o foco é na utilização do algoritmo.\n",
    "\n",
    "Caso tenha interesse em conhecer mais sobre esse conjunto de dado, por favor vide [aqui](https://scikit-learn.org/stable/datasets/toy_dataset.html#iris-dataset)."
   ],
   "cell_type": "markdown",
   "metadata": {}
  },
  {
   "source": [
    "### Importação dos pacotes"
   ],
   "cell_type": "markdown",
   "metadata": {}
  },
  {
   "cell_type": "code",
   "execution_count": 1,
   "metadata": {},
   "outputs": [],
   "source": [
    "import pandas as pd\n",
    "import numpy as np\n",
    "from sklearn.datasets import load_iris\n",
    "from sklearn.preprocessing import StandardScaler\n",
    "from sklearn.svm import SVC\n",
    "from sklearn.svm import LinearSVC\n",
    "from sklearn.model_selection import RandomizedSearchCV\n",
    "from sklearn.pipeline import Pipeline"
   ]
  },
  {
   "source": [
    "### Carregamento do conjunto de dados"
   ],
   "cell_type": "markdown",
   "metadata": {}
  },
  {
   "cell_type": "code",
   "execution_count": 2,
   "metadata": {},
   "outputs": [],
   "source": [
    "X, y = load_iris( return_X_y = True)"
   ]
  },
  {
   "source": [
    "### Configuração dos parâmetros do algoritmo\n",
    "<p>O algoritmo Linear SVM e SVM requer parâmetros de configuração. Vejamos a seguir uma breve descrição do parâmetro e também dos valores mais adequados de utilização.</p>\n",
    "\n",
    "<ul>\n",
    "<li><b>tol</b>: valor de tolerância para critérios de parada. Costuma-se aplicar valores pequenos com o intuito de evitar paradas rápidas, evitando do algoritmo não convergir</li>\n",
    "<li><b>penalty</b>: usado para especificar a norma usada na penalização, sendo uma foma de impedir que os coeficientes se ajustem tão perfeitamente ao excesso de ajuste, podendo ser L1 (a soma dos pesos) ou L2 (soma do quadrado dos pesos)</li>\n",
    "<li><b>C</b>: corresponde ao parâmetro de regularização inversa, onde uma variável de controle que retém a modificação de força da regularização ao ser posicionada inversamente ao regulador. Valores baixos fortalece a regularização, então o mais indicado é utilizar maiores valores</li>\n",
    "<li><b>max_iter</b>: define o número máximo de iterações pelo solucionador durante o ajuste do modelo. Valores baixos podem não encontrar melhores resultados enquanto de valores altos podem aumentar o tempo de treinamento. É interessante utilizar valores altos para conjuntos de dados complexos</li>\n",
    "<li><b>kernel</b>: corresponde o tipo de <i>kernel</i> a ser usado no algoritmo, podendo ser linear (retas ou planos), poli (função polinomial de n graus), rbf (<a href=\"https://pt.wikipedia.org/wiki/Fun%C3%A7%C3%A3o_de_base_radial\">função base radial</a> pode-se utiliza-lo para construir limites de decisão muito complexos), sigmoid (função sigmóide)</li>\n",
    "<li><b>gamma</b>: define até que ponto influencia o cálculo da linha de separação plausível (aplicado apenas para os <i>kernels</i> rbf, poly e sigmoid). Quando gama é maior, os pontos próximos terão grande influência (ideal utilização); gama baixa significa que pontos distantes também devem ser considerados para obter o limite de decisão</li>\n",
    "<li><b>degree</b>: define o grau da função polinomial. Seu valor está diretamente relacionado com a disposição dos dados no hiperplano</li>\n",
    "</ul>"
   ],
   "cell_type": "markdown",
   "metadata": {}
  },
  {
   "source": [
    "### Exemplo Linear SVC"
   ],
   "cell_type": "markdown",
   "metadata": {}
  },
  {
   "cell_type": "code",
   "execution_count": 7,
   "metadata": {},
   "outputs": [],
   "source": [
    "tols = np.arange(0.0001, 0.1, 0.0005)\n",
    "c_range = 1.5 ** np.arange(-3, 13)\n",
    "\n",
    "params = {\n",
    "    'svc__tol': tols,    \n",
    "    'svc__C': c_range }\n",
    "\n",
    "pipeline = Pipeline([\n",
    "    ('scaler', StandardScaler()), \n",
    "    ('svc',  LinearSVC(dual=False))])"
   ]
  },
  {
   "source": [
    "### Inicia o treinamento da inteligência com espaço de busca"
   ],
   "cell_type": "markdown",
   "metadata": {}
  },
  {
   "cell_type": "code",
   "execution_count": 8,
   "metadata": {},
   "outputs": [
    {
     "output_type": "execute_result",
     "data": {
      "text/plain": [
       "RandomizedSearchCV(cv=3,\n",
       "                   estimator=Pipeline(steps=[('scaler', StandardScaler()),\n",
       "                                             ('svc', LinearSVC(dual=False))]),\n",
       "                   n_iter=200, n_jobs=-1,\n",
       "                   param_distributions={'svc__C': array([  0.2962963 ,   0.44444444,   0.66666667,   1.        ,\n",
       "         1.5       ,   2.25      ,   3.375     ,   5.0625    ,\n",
       "         7.59375   ,  11.390625  ,  17.0859375 ,  25.62890625,\n",
       "        38.44335938,  57.66503906,  86.49755859, 129.74633789]),\n",
       "                                        'svc__tol': array([0.0001, 0.0006, 0...\n",
       "       0.0761, 0.0766, 0.0771, 0.0776, 0.0781, 0.0786, 0.0791, 0.0796,\n",
       "       0.0801, 0.0806, 0.0811, 0.0816, 0.0821, 0.0826, 0.0831, 0.0836,\n",
       "       0.0841, 0.0846, 0.0851, 0.0856, 0.0861, 0.0866, 0.0871, 0.0876,\n",
       "       0.0881, 0.0886, 0.0891, 0.0896, 0.0901, 0.0906, 0.0911, 0.0916,\n",
       "       0.0921, 0.0926, 0.0931, 0.0936, 0.0941, 0.0946, 0.0951, 0.0956,\n",
       "       0.0961, 0.0966, 0.0971, 0.0976, 0.0981, 0.0986, 0.0991, 0.0996])},\n",
       "                   scoring='f1_macro', verbose=False)"
      ]
     },
     "metadata": {},
     "execution_count": 8
    }
   ],
   "source": [
    "svcc_search = RandomizedSearchCV(pipeline, \n",
    "                                 param_distributions=params, \n",
    "                                 n_iter=200,\n",
    "                                 cv=3,\n",
    "                                 scoring = 'f1_macro',\n",
    "                                 verbose=False,\n",
    "                                 n_jobs=-1)\n",
    "\n",
    "svcc_search.fit(X, y)"
   ]
  },
  {
   "source": [
    "### Resultados\n",
    "<p>Os resultados apresentados aqui dão uma ideia da qualidade do modelo gerado. Vale ressaltar que o propósito deste exemplo é no entendimento e configuração do algoritmo.</p>"
   ],
   "cell_type": "markdown",
   "metadata": {}
  },
  {
   "cell_type": "code",
   "execution_count": 12,
   "metadata": {},
   "outputs": [
    {
     "output_type": "stream",
     "name": "stdout",
     "text": [
      "Best params:\n{'svc__tol': 0.0056, 'svc__C': 38.443359375}\nBest score: 0.9600795156772386\nClassifier: Pipeline(steps=[('scaler', StandardScaler()),\n                ('svc', LinearSVC(C=38.443359375, dual=False, tol=0.0056))])\n"
     ]
    }
   ],
   "source": [
    "classifier_svc = svcc_search.best_estimator_ \n",
    "print(f'Best params:\\n{svcc_search.best_params_}')\n",
    "print(f'Best score: {svcc_search.best_score_}')\n",
    "print(f'Classifier: {classifier_svc}')"
   ]
  },
  {
   "source": [
    "### Exemplo SVC"
   ],
   "cell_type": "markdown",
   "metadata": {}
  },
  {
   "cell_type": "code",
   "execution_count": 3,
   "metadata": {},
   "outputs": [],
   "source": [
    "tols = np.arange(0.0001, 0.1, 0.0005)\n",
    "c_range = 1.5 ** np.arange(-3, 13)\n",
    "gamma_range = 2.5 ** np.arange(-9, 14)\n",
    "degree = list(range(1, 6))\n",
    "\n",
    "params = [\n",
    "    {'svc__kernel': ['rbf'], \n",
    "     'svc__gamma': gamma_range,\n",
    "     'svc__C': c_range},\n",
    "    {'svc__kernel': ['poly'], \n",
    "     'svc__gamma': gamma_range,\n",
    "     'svc__C': c_range,\n",
    "     'svc__degree': degree},             \n",
    "    {'svc__kernel': ['sigmoid'], \n",
    "     'svc__gamma': gamma_range,\n",
    "     'svc__C': c_range},\n",
    "    {'svc__kernel': ['linear'], \n",
    "     'svc__C': c_range}]\n",
    "\n",
    "pipeline = Pipeline([\n",
    "    ('scaler', StandardScaler()), \n",
    "    ('svc',  SVC())])"
   ]
  },
  {
   "source": [
    "### Inicia o treinamento da inteligência com espaço de busca"
   ],
   "cell_type": "markdown",
   "metadata": {}
  },
  {
   "cell_type": "code",
   "execution_count": 6,
   "metadata": {},
   "outputs": [
    {
     "output_type": "execute_result",
     "data": {
      "text/plain": [
       "RandomizedSearchCV(cv=3,\n",
       "                   estimator=Pipeline(steps=[('scaler', StandardScaler()),\n",
       "                                             ('svc', SVC())]),\n",
       "                   n_iter=100, n_jobs=-1,\n",
       "                   param_distributions=[{'svc__C': array([  0.2962963 ,   0.44444444,   0.66666667,   1.        ,\n",
       "         1.5       ,   2.25      ,   3.375     ,   5.0625    ,\n",
       "         7.59375   ,  11.390625  ,  17.0859375 ,  25.62890625,\n",
       "        38.44335938,  57.66503906,  86.49755859, 129.74633789]),\n",
       "                                         'svc__gamma': array([2.62144000e-04, 6.55360000e-0...\n",
       "       6.10351562e+02, 1.52587891e+03, 3.81469727e+03, 9.53674316e+03,\n",
       "       2.38418579e+04, 5.96046448e+04, 1.49011612e+05]),\n",
       "                                         'svc__kernel': ['sigmoid']},\n",
       "                                        {'svc__C': array([  0.2962963 ,   0.44444444,   0.66666667,   1.        ,\n",
       "         1.5       ,   2.25      ,   3.375     ,   5.0625    ,\n",
       "         7.59375   ,  11.390625  ,  17.0859375 ,  25.62890625,\n",
       "        38.44335938,  57.66503906,  86.49755859, 129.74633789]),\n",
       "                                         'svc__kernel': ['linear']}],\n",
       "                   scoring='f1_macro', verbose=False)"
      ]
     },
     "metadata": {},
     "execution_count": 6
    }
   ],
   "source": [
    "svcc_search = RandomizedSearchCV(pipeline, \n",
    "                                 param_distributions=params, \n",
    "                                 n_iter=100,\n",
    "                                 cv=3,\n",
    "                                 scoring = 'f1_macro',\n",
    "                                 verbose=False,\n",
    "                                 n_jobs=-1)\n",
    "\n",
    "svcc_search.fit(X, y)"
   ]
  },
  {
   "source": [
    "### Resultados\n",
    "<p>Os resultados apresentados aqui dão uma ideia da qualidade do modelo gerado. Vale ressaltar que o propósito deste exemplo é no entendimento e configuração do algoritmo.</p>"
   ],
   "cell_type": "markdown",
   "metadata": {}
  },
  {
   "cell_type": "code",
   "execution_count": 7,
   "metadata": {},
   "outputs": [
    {
     "output_type": "stream",
     "name": "stdout",
     "text": [
      "Best params:\n{'svc__kernel': 'rbf', 'svc__gamma': 0.0256, 'svc__C': 7.59375}\nBest score: 0.9869281045751634\nClassifier: Pipeline(steps=[('scaler', StandardScaler()),\n                ('svc', SVC(C=7.59375, gamma=0.0256))])\n"
     ]
    }
   ],
   "source": [
    "classifier_svc = svcc_search.best_estimator_ \n",
    "print(f'Best params:\\n{svcc_search.best_params_}')\n",
    "print(f'Best score: {svcc_search.best_score_}')\n",
    "print(f'Classifier: {classifier_svc}')"
   ]
  }
 ]
}